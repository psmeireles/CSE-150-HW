{
 "cells": [
  {
   "cell_type": "code",
   "execution_count": 1,
   "metadata": {},
   "outputs": [],
   "source": [
    "words = []\n",
    "for line in open(\"hw4_vocab.txt\"):\n",
    "  words.append(line.split()[0])\n",
    "\n",
    "counts = []\n",
    "for line in open(\"hw4_unigram.txt\"):\n",
    "  counts.append(int(line.split()[0]))\n",
    "\n",
    "bigram = []\n",
    "for line in open(\"hw4_bigram.txt\"):\n",
    "  bigram.append([int (x) for x in line.split()])"
   ]
  },
  {
   "cell_type": "code",
   "execution_count": 2,
   "metadata": {},
   "outputs": [],
   "source": [
    "unigram = list(zip(words, counts))"
   ]
  },
  {
   "cell_type": "markdown",
   "metadata": {},
   "source": [
    "### (a)"
   ]
  },
  {
   "cell_type": "code",
   "execution_count": 3,
   "metadata": {},
   "outputs": [],
   "source": [
    "probabilities = []\n",
    "for i in range(0, 499):\n",
    "    probabilities.append([words[i], counts[i]/sum(counts)])"
   ]
  },
  {
   "cell_type": "code",
   "execution_count": 4,
   "metadata": {},
   "outputs": [
    {
     "data": {
      "text/plain": [
       "[['NINETEEN', 0.0028588174836726445],\n",
       " ['NOT', 0.0021457733600835156],\n",
       " ['NEW', 0.001900350279776441],\n",
       " ['NINE', 0.0017613053303564415],\n",
       " ['NINETY', 0.0012920576727483372],\n",
       " ['NO', 0.0010485914217056834],\n",
       " ['NOW', 0.0007126160671875371],\n",
       " ['N.', 0.0006647838218553515],\n",
       " ['NATIONAL', 0.0005965149408928713],\n",
       " ['NEXT', 0.00042879021256620473],\n",
       " ['NEWS', 0.0004290959671387705],\n",
       " ['NUMBER', 0.0003488781974804209],\n",
       " ['NORTH', 0.0002554640604701336],\n",
       " ['NEVER', 0.0002425367571420538],\n",
       " ['NIGHT', 0.00023650727697105726],\n",
       " ['NEARLY', 0.0002124871977502921],\n",
       " ['NEAR', 0.00021042029683974764],\n",
       " ['NEED', 0.00020837785629500844]]"
      ]
     },
     "execution_count": 4,
     "metadata": {},
     "output_type": "execute_result"
    }
   ],
   "source": [
    "[v for v in probabilities if v[0][0] == 'N' or v[0][0] == 'n']"
   ]
  },
  {
   "cell_type": "markdown",
   "metadata": {},
   "source": [
    "### (b)"
   ]
  },
  {
   "cell_type": "code",
   "execution_count": 5,
   "metadata": {},
   "outputs": [
    {
     "data": {
      "text/plain": [
       "'HAVE'"
      ]
     },
     "execution_count": 5,
     "metadata": {},
     "output_type": "execute_result"
    }
   ],
   "source": [
    "words[35]"
   ]
  },
  {
   "cell_type": "code",
   "execution_count": 6,
   "metadata": {},
   "outputs": [],
   "source": [
    "biDist = [[words[v[1]-1],v[2]] for v in bigram if v[0] == 36]"
   ]
  },
  {
   "cell_type": "code",
   "execution_count": 7,
   "metadata": {},
   "outputs": [],
   "source": [
    "s = sum([v[1] for v in biDist])\n",
    "biDist = [[v[0],v[1]/s] for v in biDist]"
   ]
  },
  {
   "cell_type": "code",
   "execution_count": 8,
   "metadata": {},
   "outputs": [],
   "source": [
    "biDist = sorted(biDist, key=lambda x: x[1])"
   ]
  },
  {
   "cell_type": "code",
   "execution_count": 9,
   "metadata": {},
   "outputs": [
    {
     "data": {
      "text/plain": [
       "[['AN', 0.010897736780882022],\n",
       " ['HAD', 0.01128956551907104],\n",
       " ['SAID', 0.013040550192853207],\n",
       " ['NOT', 0.01344462357911063],\n",
       " ['NO', 0.015738454317258833],\n",
       " ['THE', 0.028934103385645192],\n",
       " ['A', 0.06311299769392462],\n",
       " ['TO', 0.08213301769351646],\n",
       " ['BEEN', 0.17246178649415317],\n",
       " ['<UNK>', 0.4116813942572601]]"
      ]
     },
     "execution_count": 9,
     "metadata": {},
     "output_type": "execute_result"
    }
   ],
   "source": [
    "biDist[-10:]"
   ]
  },
  {
   "cell_type": "markdown",
   "metadata": {},
   "source": [
    "### (c)"
   ]
  },
  {
   "cell_type": "code",
   "execution_count": 10,
   "metadata": {},
   "outputs": [],
   "source": [
    "import math\n",
    "\n",
    "def probUnigram(word):\n",
    "    return probabilities[words.index(word)][1]\n",
    "\n",
    "def probBigram(word, evidence):\n",
    "    dist = [[words[v[1]-1],v[2]] for v in bigram if v[0] == words.index(evidence)+1]\n",
    "    psum = sum([v[1] for v in dist])\n",
    "    prob = [v[1] for v in dist if v[0] == word]\n",
    "    if len(prob) == 0:\n",
    "        return 0\n",
    "    else:\n",
    "        return prob[0]/psum"
   ]
  },
  {
   "cell_type": "code",
   "execution_count": 11,
   "metadata": {},
   "outputs": [],
   "source": [
    "def logLikelihoods(sentence):\n",
    "    lu = 1\n",
    "    lb = 1\n",
    "    sent = sentence.split()\n",
    "\n",
    "    for i in range(0, len(sent)):\n",
    "        lu = lu * probUnigram(sent[i])\n",
    "        if i == 0:\n",
    "            lb = lb * probBigram(sent[i], \"<s>\")\n",
    "        else:\n",
    "            lb = lb * probBigram(sent[i], sent[i-1])\n",
    "    if lu != 0:\n",
    "        lu = math.log(lu)\n",
    "    else:\n",
    "        lu = \"UNDEFINED\"\n",
    "    \n",
    "    if lb != 0:\n",
    "        lb = math.log(lb)\n",
    "    else:\n",
    "        lb = \"UNDEFINED\"\n",
    "    return lu, lb\n",
    "    "
   ]
  },
  {
   "cell_type": "code",
   "execution_count": 12,
   "metadata": {},
   "outputs": [
    {
     "name": "stdout",
     "output_type": "stream",
     "text": [
      "-50.562145130091004\n",
      "-43.04832187498447\n"
     ]
    }
   ],
   "source": [
    "lu, lb = logLikelihoods(\"TEN BILLION DOLLARS DIDN'T LAST VERY LONG\")\n",
    "print(lu)\n",
    "print(lb)"
   ]
  },
  {
   "cell_type": "markdown",
   "metadata": {},
   "source": [
    "### (d)"
   ]
  },
  {
   "cell_type": "code",
   "execution_count": 13,
   "metadata": {},
   "outputs": [
    {
     "name": "stdout",
     "output_type": "stream",
     "text": [
      "-44.72653897141283\n",
      "UNDEFINED\n"
     ]
    }
   ],
   "source": [
    "lu, lb = logLikelihoods(\"THE RECENT OFFICIALS SAID THEY INCORPORATED PRICES\")\n",
    "print(lu)\n",
    "print(lb)"
   ]
  },
  {
   "cell_type": "code",
   "execution_count": 14,
   "metadata": {},
   "outputs": [
    {
     "name": "stdout",
     "output_type": "stream",
     "text": [
      "0.15865263383617936\n",
      "0.0007153649126219887\n",
      "0\n",
      "0.22033277138459284\n",
      "0.020327686493360808\n",
      "1.1064884482606001e-05\n",
      "0\n"
     ]
    }
   ],
   "source": [
    "print(probBigram(\"THE\", \"<s>\"))\n",
    "print(probBigram(\"RECENT\", \"THE\"))\n",
    "print(probBigram(\"OFFICIALS\", \"RECENT\"))\n",
    "print(probBigram(\"SAID\", \"OFFICIALS\"))\n",
    "print(probBigram(\"THEY\", \"SAID\"))\n",
    "print(probBigram(\"INCORPORATED\", \"THEY\"))\n",
    "print(probBigram(\"PRICES\", \"INCORPORATED\"))"
   ]
  },
  {
   "cell_type": "markdown",
   "metadata": {},
   "source": [
    "### (e)"
   ]
  },
  {
   "cell_type": "code",
   "execution_count": 15,
   "metadata": {},
   "outputs": [],
   "source": [
    "def mixedProb(word, evidence, l):\n",
    "    return (1-l)*probUnigram(word) + l*probBigram(word, evidence)\n",
    "\n",
    "def mixedLL(sentence, l):\n",
    "    lm = 1\n",
    "    sent = sentence.split()\n",
    "\n",
    "    for i in range(0, len(sent)):\n",
    "        if i == 0:\n",
    "            lm = lm * mixedProb(sent[i], \"<s>\", l)\n",
    "        else:\n",
    "            lm = lm * mixedProb(sent[i], sent[i-1], l)\n",
    "    return math.log(lm)"
   ]
  },
  {
   "cell_type": "code",
   "execution_count": 16,
   "metadata": {},
   "outputs": [],
   "source": [
    "lambdas = [i/100 for i in range(0,100)]\n",
    "lls = [mixedLL(\"THE RECENT OFFICIALS SAID THEY INCORPORATED PRICES\", l) for l in lambdas]"
   ]
  },
  {
   "cell_type": "code",
   "execution_count": 17,
   "metadata": {},
   "outputs": [],
   "source": [
    "import matplotlib.pyplot as plt"
   ]
  },
  {
   "cell_type": "code",
   "execution_count": 18,
   "metadata": {},
   "outputs": [
    {
     "data": {
      "image/png": "[encoded data removed]",
      "text/plain": [
       "<Figure size 432x288 with 1 Axes>"
      ]
     },
     "metadata": {},
     "output_type": "display_data"
    }
   ],
   "source": [
    "plt.plot(lambdas, lls)\n",
    "plt.xlabel('lambda')\n",
    "plt.ylabel('log-likelihood')\n",
    "plt.show()"
   ]
  },
  {
   "cell_type": "code",
   "execution_count": 19,
   "metadata": {},
   "outputs": [
    {
     "data": {
      "text/plain": [
       "0.48"
      ]
     },
     "execution_count": 19,
     "metadata": {},
     "output_type": "execute_result"
    }
   ],
   "source": [
    "lambdas[lls.index(max(lls))]"
   ]
  }
 ],
 "metadata": {
  "kernelspec": {
   "display_name": "Python 3",
   "language": "python",
   "name": "python3"
  },
  "language_info": {
   "codemirror_mode": {
    "name": "ipython",
    "version": 3
   },
   "file_extension": ".py",
   "mimetype": "text/x-python",
   "name": "python",
   "nbconvert_exporter": "python",
   "pygments_lexer": "ipython3",
   "version": "3.6.5"
  }
 },
 "nbformat": 4,
 "nbformat_minor": 2
}
