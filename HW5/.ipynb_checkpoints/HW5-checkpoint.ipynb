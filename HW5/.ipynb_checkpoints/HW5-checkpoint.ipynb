{
 "cells": [
  {
   "cell_type": "code",
   "execution_count": 99,
   "metadata": {},
   "outputs": [],
   "source": [
    "import math"
   ]
  },
  {
   "cell_type": "markdown",
   "metadata": {},
   "source": [
    "### Question 2"
   ]
  },
  {
   "cell_type": "code",
   "execution_count": 100,
   "metadata": {},
   "outputs": [],
   "source": [
    "X = []\n",
    "for l in open(\"hw5_noisyOr_x.txt\"):\n",
    "    numbers = l.split()\n",
    "    numbers = [int(s) for s in numbers]\n",
    "    X.append(numbers)"
   ]
  },
  {
   "cell_type": "code",
   "execution_count": 101,
   "metadata": {},
   "outputs": [],
   "source": [
    "y = []\n",
    "for l in open(\"hw5_noisyOr_y.txt\"):\n",
    "    #numbers = l.split()\n",
    "    #numbers = [int(s) for s in numbers]\n",
    "    y.append(int(l))"
   ]
  },
  {
   "cell_type": "code",
   "execution_count": 102,
   "metadata": {},
   "outputs": [],
   "source": [
    "p = []\n",
    "for i in range(0, 23):\n",
    "    p.append(0.05)"
   ]
  },
  {
   "cell_type": "code",
   "execution_count": 103,
   "metadata": {},
   "outputs": [],
   "source": [
    "def updatePi():    \n",
    "    newP = []\n",
    "    for i in range(0, 23):\n",
    "        pi = 0\n",
    "        Ti = 0\n",
    "        for t in range(0, len(X)):            \n",
    "            prod = 1\n",
    "            for j in range(0, len(X[0])):\n",
    "                prod *= (1-p[j])**X[t][j]\n",
    "            pi += y[t]*X[t][i]*p[i]/(1-prod)\n",
    "            Ti += X[t][i]\n",
    "        pi = pi/Ti\n",
    "        newP.append(pi)\n",
    "    return newP"
   ]
  },
  {
   "cell_type": "code",
   "execution_count": 104,
   "metadata": {},
   "outputs": [],
   "source": [
    "def computePYX():\n",
    "    PYX = []\n",
    "    for i in range(0,len(X)):\n",
    "        pyx = 1\n",
    "        for j in range(0, len(X[0])):\n",
    "            pyx *= (1-p[j])**X[i][j]\n",
    "        PYX.append(1-pyx)\n",
    "    return PYX"
   ]
  },
  {
   "cell_type": "code",
   "execution_count": 105,
   "metadata": {},
   "outputs": [],
   "source": [
    "def loglikelihood(probabilities):\n",
    "    ll = 0\n",
    "    for i in range(len(y)):\n",
    "        if y[i] == 0:\n",
    "            ll += math.log(1-probabilities[i])\n",
    "        else:\n",
    "            ll += math.log(probabilities[i])\n",
    "    ll /= len(y)\n",
    "    return ll"
   ]
  },
  {
   "cell_type": "code",
   "execution_count": 106,
   "metadata": {},
   "outputs": [],
   "source": [
    "iterations = []\n",
    "\n",
    "probabilities = computePYX()\n",
    "ll = loglikelihood(probabilities)\n",
    "\n",
    "errors = 0\n",
    "for i in range(0, len(y)):\n",
    "    if (probabilities[i] >= 0.5 and y[i] == 0) or (probabilities[i] < 0.5 and y[i] == 1):\n",
    "        errors +=1\n",
    "\n",
    "iterations.append((errors, ll))\n",
    "\n",
    "for i in range(0,512):\n",
    "    p = updatePi();\n",
    "    probabilities = computePYX()\n",
    "    ll = loglikelihood(probabilities)\n",
    "    \n",
    "    errors = 0\n",
    "    for i in range(0, len(y)):\n",
    "        if (probabilities[i] >= 0.5 and y[i] == 0) or (probabilities[i] < 0.5 and y[i] == 1):\n",
    "            errors +=1\n",
    "            \n",
    "    iterations.append((errors, ll))"
   ]
  },
  {
   "cell_type": "code",
   "execution_count": 120,
   "metadata": {},
   "outputs": [],
   "source": [
    "table = []\n",
    "table.append((0, iterations[0][0], iterations[0][1]))\n",
    "\n",
    "i = 1\n",
    "while i <= 512:\n",
    "    table.append((i, iterations[i][0], iterations[i][1]))\n",
    "    i *= 2"
   ]
  },
  {
   "cell_type": "code",
   "execution_count": 121,
   "metadata": {},
   "outputs": [
    {
     "data": {
      "text/plain": [
       "[(0, 175, -0.9580854082157914),\n",
       " (1, 56, -0.49591639407753635),\n",
       " (2, 43, -0.40822081705839114),\n",
       " (4, 42, -0.3646149825001877),\n",
       " (8, 44, -0.34750061620878253),\n",
       " (16, 40, -0.33461704895854844),\n",
       " (32, 37, -0.3225814031674978),\n",
       " (64, 37, -0.3148266983628557),\n",
       " (128, 36, -0.3111558472151897),\n",
       " (256, 36, -0.3101613534740759),\n",
       " (512, 36, -0.30999030298497576)]"
      ]
     },
     "execution_count": 121,
     "metadata": {},
     "output_type": "execute_result"
    }
   ],
   "source": [
    "table"
   ]
  },
  {
   "cell_type": "code",
   "execution_count": 122,
   "metadata": {
    "scrolled": true
   },
   "outputs": [
    {
     "data": {
      "text/plain": [
       "[7.952606636558421e-05,\n",
       " 0.004817412093697185,\n",
       " 2.5702471621528087e-11,\n",
       " 0.26533320243361963,\n",
       " 1.4919335171144578e-05,\n",
       " 0.009464229795569459,\n",
       " 0.24030074435506368,\n",
       " 0.11345165109907844,\n",
       " 0.0001434658634790401,\n",
       " 0.5234804065754611,\n",
       " 0.4072853322527083,\n",
       " 9.074568784373926e-08,\n",
       " 0.6157947609276805,\n",
       " 5.954608022848239e-06,\n",
       " 0.04490171238688918,\n",
       " 0.5899773388133327,\n",
       " 0.9999999999999938,\n",
       " 0.9999999821990931,\n",
       " 4.154500914170821e-09,\n",
       " 0.4629914874582514,\n",
       " 0.3531984001127537,\n",
       " 0.5248644134908856,\n",
       " 0.19475859952835034]"
      ]
     },
     "execution_count": 122,
     "metadata": {},
     "output_type": "execute_result"
    }
   ],
   "source": [
    "p"
   ]
  },
  {
   "cell_type": "markdown",
   "metadata": {},
   "source": [
    "### Question 3"
   ]
  },
  {
   "cell_type": "markdown",
   "metadata": {},
   "source": [
    "#### (a)"
   ]
  },
  {
   "cell_type": "code",
   "execution_count": 138,
   "metadata": {},
   "outputs": [],
   "source": [
    "X = []\n",
    "for l in open(\"hw5_movieRatings_fa18.txt\"):\n",
    "    v = []\n",
    "    for x in l.split():\n",
    "        if x != '?':\n",
    "            v.append(int(x))\n",
    "        else:\n",
    "            v.append(x)\n",
    "    X.append(v)"
   ]
  },
  {
   "cell_type": "code",
   "execution_count": 132,
   "metadata": {},
   "outputs": [],
   "source": [
    "titles = []\n",
    "for l in open(\"hw5_movieTitles_fa18.txt\"):\n",
    "    titles.append(l.split()[0])"
   ]
  },
  {
   "cell_type": "code",
   "execution_count": 154,
   "metadata": {},
   "outputs": [],
   "source": [
    "moviesAvg = []\n",
    "for i in range(0, len(titles)):\n",
    "    moviesAvg.append([0,0,0])\n",
    "    \n",
    "for i in range(0, len(X)):\n",
    "    for j in range(0, len(titles)):\n",
    "        if X[i][j] == 1:\n",
    "            moviesAvg[j][0] += 1\n",
    "        if X[i][j] != '?':\n",
    "            moviesAvg[j][1] += 1\n",
    "            \n",
    "for i in range(0, len(titles)):\n",
    "    moviesAvg[i][2] = moviesAvg[i][0]/moviesAvg[i][1]\n",
    "    \n",
    "moviesAvg = list(zip(titles, moviesAvg))"
   ]
  },
  {
   "cell_type": "code",
   "execution_count": 160,
   "metadata": {},
   "outputs": [],
   "source": [
    "moviesAvg = sorted(moviesAvg, key=lambda x:x[1][2])"
   ]
  },
  {
   "cell_type": "code",
   "execution_count": 164,
   "metadata": {},
   "outputs": [
    {
     "data": {
      "text/plain": [
       "['The_Last_Airbender',\n",
       " 'Batman_v_Superman:_Dawn_of_Justice',\n",
       " 'Justice_League',\n",
       " 'Suicide_Squad',\n",
       " 'It',\n",
       " 'Terminator_Genisys',\n",
       " 'World_War_Z',\n",
       " 'The_Shape_of_Water',\n",
       " 'Venom',\n",
       " 'Man_of_Steel',\n",
       " 'Tron',\n",
       " 'Blade_Runner_2049',\n",
       " 'The_Lego_Movie',\n",
       " 'Star_Wars:_The_Phantom_Menace',\n",
       " 'Jurassic_World',\n",
       " 'The_Greatest_Showman',\n",
       " 'The_Hunger_Games',\n",
       " 'Terminator_2',\n",
       " 'Oceans_8',\n",
       " 'Star_Wars:_The_Last_Jedi',\n",
       " 'La_La_Land',\n",
       " 'Mad_Max:_Fury_Road',\n",
       " 'Get_Out',\n",
       " 'Furious_7',\n",
       " 'Jumanji:_Welcome_to_the_Jungle',\n",
       " '2001:_A_Space_Odyssey',\n",
       " 'Wonder_Woman',\n",
       " 'Frozen',\n",
       " 'Star_Trek_Beyond',\n",
       " 'Captain_America:_Civil_War',\n",
       " 'Guardians_of_the_Galaxy_Vol._2',\n",
       " 'Ex_Machina',\n",
       " 'Harry_Potter_and_the_Deathly_Hallows:_Part_2',\n",
       " 'Ant-Man_and_the_Wasp',\n",
       " 'Fantastic_Beasts_and_Where_To_Find_Them',\n",
       " 'Rogue_One',\n",
       " 'Logan',\n",
       " 'Zootopia',\n",
       " 'The_Lord_of_the_Rings:_The_Fellowship_of_the_Ring',\n",
       " 'Thor:_Ragnarok',\n",
       " 'Deadpool_2',\n",
       " 'The_Imitation_Game',\n",
       " 'Guardians_of_the_Galaxy',\n",
       " 'Iron_Man_3',\n",
       " 'Black_Panther',\n",
       " 'The_Martian',\n",
       " 'The_Wolf_of_Wall_Street',\n",
       " 'The_Dark_Knight',\n",
       " 'Jurassic_Park_(1993)',\n",
       " 'Avengers:_Infinity_War',\n",
       " 'Mission:_Impossible_-_Fallout',\n",
       " 'Coco',\n",
       " 'Moana',\n",
       " 'Interstellar',\n",
       " 'The_Matrix',\n",
       " 'The_Avengers',\n",
       " 'WALL-E',\n",
       " 'Inception',\n",
       " 'Solo',\n",
       " 'Doctor_Strange']"
      ]
     },
     "execution_count": 164,
     "metadata": {},
     "output_type": "execute_result"
    }
   ],
   "source": [
    "[v[0] for v in moviesAvg]"
   ]
  },
  {
   "cell_type": "markdown",
   "metadata": {},
   "source": [
    "#### (e)"
   ]
  },
  {
   "cell_type": "code",
   "execution_count": 170,
   "metadata": {},
   "outputs": [],
   "source": [
    "pY = []\n",
    "for l in open(\"hw5_probType_init_fa18.txt\"):\n",
    "    pY.append(float(l.split()[0]))\n",
    "\n",
    "pRY = []\n",
    "for l in open(\"hw5_probRatingGivenType_init_fa18.txt\"):\n",
    "    probs = [float(x) for x in l.split()]\n",
    "    pRY.append(probs)"
   ]
  },
  {
   "cell_type": "code",
   "execution_count": 189,
   "metadata": {},
   "outputs": [],
   "source": [
    "def computePit():\n",
    "    vPit = []\n",
    "    for t in range(0, len(X)):\n",
    "        vPt = []\n",
    "        for i in range(0, len(pY)):\n",
    "            prod = pY[i]\n",
    "            for j in range(0, len(pRY)):\n",
    "                if X[t][j] == 1:\n",
    "                    prod *= pRY[j][i]\n",
    "                elif X[t][j] == 0:\n",
    "                    prod *= (1-pRY[j][i])\n",
    "            vPt.append(prod)\n",
    "        vPt = [x/sum(vPt) for x in vPt]\n",
    "        vPit.append(vPt)\n",
    "    return list(map(list, zip(*vPit)))"
   ]
  },
  {
   "cell_type": "code",
   "execution_count": 208,
   "metadata": {},
   "outputs": [],
   "source": [
    "def updatePY(Pit):\n",
    "    newPY = []\n",
    "    for i in range(0, len(pY)):\n",
    "        sum = 0\n",
    "        for t in range(0, len(X)):\n",
    "            sum += Pit[i][t]\n",
    "        sum /= len(X)\n",
    "        newPY.append(sum)\n",
    "    return newPY"
   ]
  },
  {
   "cell_type": "code",
   "execution_count": 203,
   "metadata": {},
   "outputs": [],
   "source": [
    "def updatePRY(Pit):\n",
    "    newPRY = []\n",
    "    for j in range(0, len(pRY)):\n",
    "        newPy = []\n",
    "        for i in range(0, len(pY)):\n",
    "            sumT = 0\n",
    "            sumNotT = 0\n",
    "            for t in range(0, len(X)):\n",
    "                if X[t][j] == 1:\n",
    "                    sumT += Pit[i][t]\n",
    "                elif X[t][j] == '?':\n",
    "                    sumNotT += Pit[i][t]*pRY[j][i]\n",
    "            newPy.append((sumT + sumNotT)/sum(Pit[i]))\n",
    "        newPRY.append(newPy)\n",
    "    return newPRY"
   ]
  },
  {
   "cell_type": "code",
   "execution_count": 214,
   "metadata": {},
   "outputs": [],
   "source": [
    "def computePR(Pit, t):\n",
    "    sum = 0\n",
    "    for i in range(0, len(pY)):\n",
    "        prod = pY[i]\n",
    "        for j in range(0, len(pRY)):\n",
    "            if X[t][j] == 1:\n",
    "                prod *= pRY[j][i]\n",
    "            elif X[t][j] == 0:\n",
    "                prod *= (1-pRY[j][i])\n",
    "        sum += prod\n",
    "    return sum"
   ]
  },
  {
   "cell_type": "code",
   "execution_count": 215,
   "metadata": {},
   "outputs": [],
   "source": [
    "def loglikelihood(Pit):\n",
    "    ll = 0\n",
    "    for t in range(0, len(X)):\n",
    "        ll += math.log(computePR(Pit, t))\n",
    "    ll /= len(X)\n",
    "    return ll"
   ]
  },
  {
   "cell_type": "code",
   "execution_count": 220,
   "metadata": {},
   "outputs": [
    {
     "data": {
      "text/plain": [
       "-27.98479373624261"
      ]
     },
     "execution_count": 220,
     "metadata": {},
     "output_type": "execute_result"
    }
   ],
   "source": [
    "loglikelihood(computePit())"
   ]
  },
  {
   "cell_type": "code",
   "execution_count": 221,
   "metadata": {},
   "outputs": [],
   "source": [
    "iterations = []\n",
    "\n",
    "pit = computePit()\n",
    "ll = loglikelihood(pit)\n",
    "\n",
    "iterations.append([0, ll])\n",
    "\n",
    "for i in range(0,128):\n",
    "    pY = updatePY(pit)\n",
    "    pRY = updatePRY(pit)\n",
    "    pit = computePit()\n",
    "    ll = loglikelihood(pit)\n",
    "            \n",
    "    iterations.append([i+1, ll])"
   ]
  },
  {
   "cell_type": "code",
   "execution_count": 223,
   "metadata": {},
   "outputs": [],
   "source": [
    "table = []\n",
    "table.append(iterations[0])\n",
    "i=1\n",
    "while i <= 128:\n",
    "    table.append(iterations[i])\n",
    "    i *= 2"
   ]
  },
  {
   "cell_type": "code",
   "execution_count": 224,
   "metadata": {},
   "outputs": [
    {
     "data": {
      "text/plain": [
       "[[0, -27.98479373624261],\n",
       " [1, -15.572996571571787],\n",
       " [2, -13.66141481085908],\n",
       " [4, -12.556587236861157],\n",
       " [8, -12.13316136441514],\n",
       " [16, -12.019531087089582],\n",
       " [32, -12.004032227091116],\n",
       " [64, -12.000469747436933],\n",
       " [128, -12.00004068559657]]"
      ]
     },
     "execution_count": 224,
     "metadata": {},
     "output_type": "execute_result"
    }
   ],
   "source": [
    "table"
   ]
  },
  {
   "cell_type": "markdown",
   "metadata": {},
   "source": [
    "#### (f)"
   ]
  },
  {
   "cell_type": "code",
   "execution_count": 238,
   "metadata": {},
   "outputs": [],
   "source": [
    "myRatings = ['?', 1, '?', 1, 1, 1, 1, 1, 0, 1, 1, 1, 1, 1, 1, 0, 1, 1, 1, 1, 1, 1, 1, 0, 1, 1, 0, 1, 0, 0, 0, 1, 1, 1, 1, '?', 1, '?', '?', 1, '?', '?', '?', '?', 1, '?', 1, 1, 1, '?', 1, 0, 1, 1, '?', 1, 0, 1, 1, '?']"
   ]
  },
  {
   "cell_type": "code",
   "execution_count": 239,
   "metadata": {},
   "outputs": [
    {
     "data": {
      "text/plain": [
       "111"
      ]
     },
     "execution_count": 239,
     "metadata": {},
     "output_type": "execute_result"
    }
   ],
   "source": [
    "X.index(myRatings)"
   ]
  },
  {
   "cell_type": "code",
   "execution_count": 240,
   "metadata": {},
   "outputs": [],
   "source": [
    "myProbs = [p[111] for p in pit]"
   ]
  },
  {
   "cell_type": "code",
   "execution_count": 241,
   "metadata": {},
   "outputs": [
    {
     "data": {
      "text/plain": [
       "[1.0, 5.151841717383405e-86, -3.573574433350554e-63, 0.0]"
      ]
     },
     "execution_count": 241,
     "metadata": {},
     "output_type": "execute_result"
    }
   ],
   "source": [
    "myProbs"
   ]
  },
  {
   "cell_type": "markdown",
   "metadata": {},
   "source": [
    "#### (g)"
   ]
  },
  {
   "cell_type": "code",
   "execution_count": 244,
   "metadata": {},
   "outputs": [],
   "source": [
    "unseenMovies = []\n",
    "for j in range(0, len(myRatings)):\n",
    "    sum = 0\n",
    "    if myRatings[j] == '?':\n",
    "        for i in range(0, len(pY)):\n",
    "            sum += pit[i][111]*pRY[j][i]\n",
    "        unseenMovies.append([titles[j], sum])"
   ]
  },
  {
   "cell_type": "code",
   "execution_count": 245,
   "metadata": {},
   "outputs": [
    {
     "data": {
      "text/plain": [
       "[['Black_Panther', 0.9435799253823884],\n",
       " ['The_Last_Airbender', 0.2641657488701842],\n",
       " ['2001:_A_Space_Odyssey', 0.9494494359912142],\n",
       " ['Terminator_Genisys', 0.5840336593899693],\n",
       " ['Terminator_2', 0.8577013829345648],\n",
       " ['Coco', 0.935731301447267],\n",
       " ['Ant-Man_and_the_Wasp', 0.8815382276129842],\n",
       " ['Venom', 0.6962129331476755],\n",
       " ['Oceans_8', 0.944858959209109],\n",
       " ['The_Lego_Movie', 0.7885033530939412],\n",
       " ['Jumanji:_Welcome_to_the_Jungle', 0.8222240618014134],\n",
       " ['Solo', 0.9999999999999997],\n",
       " ['Furious_7', 0.8331588178649978]]"
      ]
     },
     "execution_count": 245,
     "metadata": {},
     "output_type": "execute_result"
    }
   ],
   "source": [
    "unseenMovies"
   ]
  }
 ],
 "metadata": {
  "kernelspec": {
   "display_name": "Python 3",
   "language": "python",
   "name": "python3"
  },
  "language_info": {
   "codemirror_mode": {
    "name": "ipython",
    "version": 3
   },
   "file_extension": ".py",
   "mimetype": "text/x-python",
   "name": "python",
   "nbconvert_exporter": "python",
   "pygments_lexer": "ipython3",
   "version": "3.6.5"
  }
 },
 "nbformat": 4,
 "nbformat_minor": 2
}
