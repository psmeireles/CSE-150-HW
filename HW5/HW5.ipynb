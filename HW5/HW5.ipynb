{
 "cells": [
  {
   "cell_type": "code",
   "execution_count": 99,
   "metadata": {},
   "outputs": [],
   "source": [
    "import math"
   ]
  },
  {
   "cell_type": "code",
   "execution_count": 100,
   "metadata": {},
   "outputs": [],
   "source": [
    "X = []\n",
    "for l in open(\"hw5_noisyOr_x.txt\"):\n",
    "    numbers = l.split()\n",
    "    numbers = [int(s) for s in numbers]\n",
    "    X.append(numbers)"
   ]
  },
  {
   "cell_type": "code",
   "execution_count": 101,
   "metadata": {},
   "outputs": [],
   "source": [
    "y = []\n",
    "for l in open(\"hw5_noisyOr_y.txt\"):\n",
    "    #numbers = l.split()\n",
    "    #numbers = [int(s) for s in numbers]\n",
    "    y.append(int(l))"
   ]
  },
  {
   "cell_type": "code",
   "execution_count": 102,
   "metadata": {},
   "outputs": [],
   "source": [
    "p = []\n",
    "for i in range(0, 23):\n",
    "    p.append(0.05)"
   ]
  },
  {
   "cell_type": "code",
   "execution_count": 103,
   "metadata": {},
   "outputs": [],
   "source": [
    "def updatePi():    \n",
    "    newP = []\n",
    "    for i in range(0, 23):\n",
    "        pi = 0\n",
    "        Ti = 0\n",
    "        for t in range(0, len(X)):            \n",
    "            prod = 1\n",
    "            for j in range(0, len(X[0])):\n",
    "                prod *= (1-p[j])**X[t][j]\n",
    "            pi += y[t]*X[t][i]*p[i]/(1-prod)\n",
    "            Ti += X[t][i]\n",
    "        pi = pi/Ti\n",
    "        newP.append(pi)\n",
    "    return newP"
   ]
  },
  {
   "cell_type": "code",
   "execution_count": 104,
   "metadata": {},
   "outputs": [],
   "source": [
    "def computePYX():\n",
    "    PYX = []\n",
    "    for i in range(0,len(X)):\n",
    "        pyx = 1\n",
    "        for j in range(0, len(X[0])):\n",
    "            pyx *= (1-p[j])**X[i][j]\n",
    "        PYX.append(1-pyx)\n",
    "    return PYX"
   ]
  },
  {
   "cell_type": "code",
   "execution_count": 105,
   "metadata": {},
   "outputs": [],
   "source": [
    "def loglikelihood(probabilities):\n",
    "    ll = 0\n",
    "    for i in range(len(y)):\n",
    "        if y[i] == 0:\n",
    "            ll += math.log(1-probabilities[i])\n",
    "        else:\n",
    "            ll += math.log(probabilities[i])\n",
    "    ll /= len(y)\n",
    "    return ll"
   ]
  },
  {
   "cell_type": "code",
   "execution_count": 106,
   "metadata": {},
   "outputs": [],
   "source": [
    "iterations = []\n",
    "\n",
    "probabilities = computePYX()\n",
    "ll = loglikelihood(probabilities)\n",
    "\n",
    "errors = 0\n",
    "for i in range(0, len(y)):\n",
    "    if (probabilities[i] >= 0.5 and y[i] == 0) or (probabilities[i] < 0.5 and y[i] == 1):\n",
    "        errors +=1\n",
    "\n",
    "iterations.append((errors, ll))\n",
    "\n",
    "for i in range(0,512):\n",
    "    p = updatePi();\n",
    "    probabilities = computePYX()\n",
    "    ll = loglikelihood(probabilities)\n",
    "    \n",
    "    errors = 0\n",
    "    for i in range(0, len(y)):\n",
    "        if (probabilities[i] >= 0.5 and y[i] == 0) or (probabilities[i] < 0.5 and y[i] == 1):\n",
    "            errors +=1\n",
    "            \n",
    "    iterations.append((errors, ll))"
   ]
  },
  {
   "cell_type": "code",
   "execution_count": 120,
   "metadata": {},
   "outputs": [],
   "source": [
    "table = []\n",
    "table.append((0, iterations[0][0], iterations[0][1]))\n",
    "\n",
    "i = 1\n",
    "while i <= 512:\n",
    "    table.append((i, iterations[i][0], iterations[i][1]))\n",
    "    i *= 2"
   ]
  },
  {
   "cell_type": "code",
   "execution_count": 121,
   "metadata": {},
   "outputs": [
    {
     "data": {
      "text/plain": [
       "[(0, 175, -0.9580854082157914),\n",
       " (1, 56, -0.49591639407753635),\n",
       " (2, 43, -0.40822081705839114),\n",
       " (4, 42, -0.3646149825001877),\n",
       " (8, 44, -0.34750061620878253),\n",
       " (16, 40, -0.33461704895854844),\n",
       " (32, 37, -0.3225814031674978),\n",
       " (64, 37, -0.3148266983628557),\n",
       " (128, 36, -0.3111558472151897),\n",
       " (256, 36, -0.3101613534740759),\n",
       " (512, 36, -0.30999030298497576)]"
      ]
     },
     "execution_count": 121,
     "metadata": {},
     "output_type": "execute_result"
    }
   ],
   "source": [
    "table"
   ]
  },
  {
   "cell_type": "code",
   "execution_count": 122,
   "metadata": {},
   "outputs": [
    {
     "data": {
      "text/plain": [
       "[7.952606636558421e-05,\n",
       " 0.004817412093697185,\n",
       " 2.5702471621528087e-11,\n",
       " 0.26533320243361963,\n",
       " 1.4919335171144578e-05,\n",
       " 0.009464229795569459,\n",
       " 0.24030074435506368,\n",
       " 0.11345165109907844,\n",
       " 0.0001434658634790401,\n",
       " 0.5234804065754611,\n",
       " 0.4072853322527083,\n",
       " 9.074568784373926e-08,\n",
       " 0.6157947609276805,\n",
       " 5.954608022848239e-06,\n",
       " 0.04490171238688918,\n",
       " 0.5899773388133327,\n",
       " 0.9999999999999938,\n",
       " 0.9999999821990931,\n",
       " 4.154500914170821e-09,\n",
       " 0.4629914874582514,\n",
       " 0.3531984001127537,\n",
       " 0.5248644134908856,\n",
       " 0.19475859952835034]"
      ]
     },
     "execution_count": 122,
     "metadata": {},
     "output_type": "execute_result"
    }
   ],
   "source": [
    "p"
   ]
  }
 ],
 "metadata": {
  "kernelspec": {
   "display_name": "Python 3",
   "language": "python",
   "name": "python3"
  },
  "language_info": {
   "codemirror_mode": {
    "name": "ipython",
    "version": 3
   },
   "file_extension": ".py",
   "mimetype": "text/x-python",
   "name": "python",
   "nbconvert_exporter": "python",
   "pygments_lexer": "ipython3",
   "version": "3.6.5"
  }
 },
 "nbformat": 4,
 "nbformat_minor": 2
}
