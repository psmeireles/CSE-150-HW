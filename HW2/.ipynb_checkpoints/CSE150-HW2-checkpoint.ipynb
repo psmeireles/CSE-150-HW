{
 "cells": [
  {
   "cell_type": "code",
   "execution_count": 1,
   "metadata": {},
   "outputs": [],
   "source": [
    "import re"
   ]
  },
  {
   "cell_type": "code",
   "execution_count": 2,
   "metadata": {},
   "outputs": [],
   "source": [
    "file = open('hw2_word_counts_05.txt','r')"
   ]
  },
  {
   "cell_type": "code",
   "execution_count": 3,
   "metadata": {},
   "outputs": [
    {
     "data": {
      "text/plain": [
       "''"
      ]
     },
     "execution_count": 3,
     "metadata": {},
     "output_type": "execute_result"
    }
   ],
   "source": [
    "fileString = file.read()\n",
    "fileArray = re.compile(\" |\\n\").split(fileString)\n",
    "fileArray.pop() # remove EOF"
   ]
  },
  {
   "cell_type": "code",
   "execution_count": 4,
   "metadata": {},
   "outputs": [],
   "source": [
    "words = fileArray[0:][::2]\n",
    "counts = fileArray[1:][::2]\n",
    "counts = [int(n) for n in counts]\n",
    "probabilities = [n/sum(counts) for n in counts]"
   ]
  },
  {
   "cell_type": "code",
   "execution_count": 5,
   "metadata": {},
   "outputs": [],
   "source": [
    "words = list(zip(words, counts, probabilities))"
   ]
  },
  {
   "cell_type": "code",
   "execution_count": 6,
   "metadata": {},
   "outputs": [],
   "source": [
    "words = sorted(words, key=lambda x:x[2])"
   ]
  },
  {
   "cell_type": "markdown",
   "metadata": {},
   "source": [
    "10 least common words:"
   ]
  },
  {
   "cell_type": "code",
   "execution_count": 7,
   "metadata": {},
   "outputs": [
    {
     "data": {
      "text/plain": [
       "[('BOSAK', 6, 7.827934689453437e-07),\n",
       " ('CAIXA', 6, 7.827934689453437e-07),\n",
       " ('MAPCO', 6, 7.827934689453437e-07),\n",
       " ('OTTIS', 6, 7.827934689453437e-07),\n",
       " ('TROUP', 6, 7.827934689453437e-07),\n",
       " ('CCAIR', 7, 9.13259047102901e-07),\n",
       " ('CLEFT', 7, 9.13259047102901e-07),\n",
       " ('FABRI', 7, 9.13259047102901e-07),\n",
       " ('FOAMY', 7, 9.13259047102901e-07),\n",
       " ('NIAID', 7, 9.13259047102901e-07)]"
      ]
     },
     "execution_count": 7,
     "metadata": {},
     "output_type": "execute_result"
    }
   ],
   "source": [
    "words[:10]"
   ]
  },
  {
   "cell_type": "markdown",
   "metadata": {},
   "source": [
    "10 most probable words:"
   ]
  },
  {
   "cell_type": "code",
   "execution_count": 8,
   "metadata": {},
   "outputs": [
    {
     "data": {
      "text/plain": [
       "[('FIFTY', 106869, 0.013942725872119989),\n",
       " ('FIRST', 109957, 0.014345603577470525),\n",
       " ('AFTER', 110102, 0.01436452108630337),\n",
       " ('WHICH', 142146, 0.018545160072784138),\n",
       " ('THEIR', 145434, 0.018974130893766185),\n",
       " ('ABOUT', 157448, 0.020541544349751077),\n",
       " ('WOULD', 159875, 0.02085818430793947),\n",
       " ('EIGHT', 165764, 0.021626496097709325),\n",
       " ('SEVEN', 178842, 0.023332724928853858),\n",
       " ('THREE', 273077, 0.03562714868653127)]"
      ]
     },
     "execution_count": 8,
     "metadata": {},
     "output_type": "execute_result"
    }
   ],
   "source": [
    "words[len(words)-10:]"
   ]
  },
  {
   "cell_type": "markdown",
   "metadata": {},
   "source": [
    "### Hangman"
   ]
  },
  {
   "cell_type": "code",
   "execution_count": 14,
   "metadata": {},
   "outputs": [],
   "source": [
    "letters = [\"A\", \"B\", \"C\", \"D\", \"E\", \"F\", \"G\",\n",
    "           \"H\", \"I\", \"J\", \"K\", \"L\", \"M\", \"N\",\n",
    "           \"O\", \"P\", \"Q\", \"R\", \"S\", \"T\", \"U\",\n",
    "           \"V\", \"W\", \"X\", \"Y\", \"Z\"]"
   ]
  },
  {
   "cell_type": "code",
   "execution_count": 10,
   "metadata": {},
   "outputs": [],
   "source": [
    "def compareWordGuess(word, guess):\n",
    "    for i in range(0,5):\n",
    "        if (not guess[i] == '-' and not guess[i] == word[i]) or (guess[i] == '-' and word[i] in guess):\n",
    "            return False\n",
    "    return True"
   ]
  },
  {
   "cell_type": "code",
   "execution_count": 11,
   "metadata": {},
   "outputs": [],
   "source": [
    "def guessLetter(words, corrGuess, incorrGuess):\n",
    "    guessWords = [w for w in words \n",
    "                  if compareWordGuess(w[0], corrGuess) \n",
    "                  and not any(s in w[0] for s in incorrGuess)]\n",
    "    wordProbs = [row[2] for row in guessWords]\n",
    "    guessWords = [[w[0], w[1], w[2]/sum(wordProbs)] for w in guessWords]\n",
    "    \n",
    "    letterProb = [[letter, 0] for letter in letters \n",
    "                  if letter not in corrGuess \n",
    "                  and letter not in incorrGuess]\n",
    "    for l in letterProb:\n",
    "        for word in guessWords:\n",
    "            if(l[0] in word[0]):\n",
    "                l[1] += word[2]\n",
    "    letterProb = sorted(letterProb, key=lambda x:x[1])\n",
    "    return letterProb[-1]\n",
    "    "
   ]
  },
  {
   "cell_type": "code",
   "execution_count": 12,
   "metadata": {},
   "outputs": [
    {
     "name": "stdout",
     "output_type": "stream",
     "text": [
      "['I', 0.6365554141009612]\n",
      "['A', 0.8206845238095238]\n",
      "['E', 0.7520746887966805]\n",
      "['Y', 0.6269651101630529]\n"
     ]
    }
   ],
   "source": [
    "print(guessLetter(words, \"-----\", [\"E\", \"O\"]))\n",
    "print(guessLetter(words, \"D--I-\", []))\n",
    "print(guessLetter(words, \"D--I-\", [\"A\"]))\n",
    "print(guessLetter(words, \"-U---\", [\"A\", \"E\", \"I\", \"O\", \"S\"]))"
   ]
  },
  {
   "cell_type": "code",
   "execution_count": 13,
   "metadata": {},
   "outputs": [
    {
     "name": "stdout",
     "output_type": "stream",
     "text": [
      "['E', 0.5394172389647974]\n",
      "['I', 0.6365554141009612]\n",
      "['U', 0.9866727159303579]\n",
      "['A', 0.9999999999999999]\n",
      "['O', 0.8803418803418803]\n"
     ]
    }
   ],
   "source": [
    "print(guessLetter(words, \"-----\", []))\n",
    "print(guessLetter(words, \"-----\", [\"E\", \"O\"]))\n",
    "print(guessLetter(words, \"Q----\", []))\n",
    "print(guessLetter(words, \"Q----\", [\"U\"]))\n",
    "print(guessLetter(words, \"--ZE-\", [\"A\", \"D\", \"I\", \"R\"]))"
   ]
  },
  {
   "cell_type": "code",
   "execution_count": 266,
   "metadata": {},
   "outputs": [],
   "source": []
  },
  {
   "cell_type": "code",
   "execution_count": 269,
   "metadata": {},
   "outputs": [],
   "source": []
  },
  {
   "cell_type": "code",
   "execution_count": null,
   "metadata": {},
   "outputs": [],
   "source": []
  },
  {
   "cell_type": "code",
   "execution_count": null,
   "metadata": {},
   "outputs": [],
   "source": []
  },
  {
   "cell_type": "code",
   "execution_count": null,
   "metadata": {},
   "outputs": [],
   "source": []
  },
  {
   "cell_type": "code",
   "execution_count": null,
   "metadata": {},
   "outputs": [],
   "source": []
  }
 ],
 "metadata": {
  "kernelspec": {
   "display_name": "Python 3",
   "language": "python",
   "name": "python3"
  },
  "language_info": {
   "codemirror_mode": {
    "name": "ipython",
    "version": 3
   },
   "file_extension": ".py",
   "mimetype": "text/x-python",
   "name": "python",
   "nbconvert_exporter": "python",
   "pygments_lexer": "ipython3",
   "version": "3.6.5"
  }
 },
 "nbformat": 4,
 "nbformat_minor": 2
}
