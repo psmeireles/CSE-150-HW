{
 "cells": [
  {
   "cell_type": "code",
   "execution_count": 1,
   "metadata": {},
   "outputs": [],
   "source": [
    "import math\n",
    "import matplotlib.pyplot as plt"
   ]
  },
  {
   "cell_type": "code",
   "execution_count": 12,
   "metadata": {},
   "outputs": [],
   "source": [
    "pi = []\n",
    "for l in open('initialStateDistribution.txt'):\n",
    "\n",
    "    pi.append(float(l.split()[0]))"
   ]
  },
  {
   "cell_type": "code",
   "execution_count": 13,
   "metadata": {},
   "outputs": [],
   "source": [
    "aij = []\n",
    "for l in open('transitionMatrix.txt'):\n",
    "    numbers = l.split()\n",
    "    for i in range(0, len(numbers)):\n",
    "        numbers[i] = float(numbers[i])\n",
    "    aij.append(numbers)"
   ]
  },
  {
   "cell_type": "code",
   "execution_count": 14,
   "metadata": {},
   "outputs": [],
   "source": [
    "bik = []\n",
    "for l in open('emissionMatrix.txt'):\n",
    "    numbers = l.split()\n",
    "    for i in range(0, len(numbers)):\n",
    "        numbers[i] = float(numbers[i])\n",
    "    bik.append(numbers)"
   ]
  },
  {
   "cell_type": "code",
   "execution_count": 31,
   "metadata": {},
   "outputs": [],
   "source": [
    "for l in open('observations.txt'):\n",
    "    obs = l.split()\n",
    "    for i in range(0, len(obs)):\n",
    "        obs[i] = int(obs[i])"
   ]
  },
  {
   "cell_type": "code",
   "execution_count": 34,
   "metadata": {},
   "outputs": [],
   "source": [
    "li1 = []\n",
    "for i in range(0, len(pi)):\n",
    "    li1.append(math.log(pi[i]*bik[i][1]))"
   ]
  },
  {
   "cell_type": "code",
   "execution_count": 40,
   "metadata": {},
   "outputs": [],
   "source": [
    "lit = []\n",
    "lit.append(li1)"
   ]
  },
  {
   "cell_type": "code",
   "execution_count": 41,
   "metadata": {},
   "outputs": [],
   "source": [
    "phiit = []\n",
    "phiit.append([0]*len(lit[0]))"
   ]
  },
  {
   "cell_type": "code",
   "execution_count": 42,
   "metadata": {},
   "outputs": [],
   "source": [
    "def computelit(j, t):\n",
    "    maximize = []\n",
    "    for x in lit[t-1]:\n",
    "        maximize.append(x + math.log(aij[lit[t-1].index(x)][j]))\n",
    "    maximize = max(maximize)\n",
    "    return maximize + math.log(bik[j][obs[t]])"
   ]
  },
  {
   "cell_type": "code",
   "execution_count": 43,
   "metadata": {},
   "outputs": [],
   "source": [
    "for time in range(1, len(obs)):\n",
    "    actualLit = []\n",
    "    actualPhiit = []\n",
    "    for n in range(0, len(li1)):\n",
    "        actualLit.append(computelit(n, time))\n",
    "        maxlit = []\n",
    "        for x in lit[time-1]:\n",
    "            maxlit.append(x + math.log(aij[lit[time-1].index(x)][n]))\n",
    "        actualPhiit.append(maxlit.index(max(maxlit)))\n",
    "    lit.append(actualLit)\n",
    "    phiit.append(actualPhiit)"
   ]
  },
  {
   "cell_type": "code",
   "execution_count": 44,
   "metadata": {},
   "outputs": [
    {
     "data": {
      "text/plain": [
       "[[-6.628041369179533,\n",
       "  -5.934894202619588,\n",
       "  -5.529429061844757,\n",
       "  -5.2417470360596425,\n",
       "  -5.018603456745432,\n",
       "  -4.836281927951478,\n",
       "  -4.68213122812422,\n",
       "  -4.548599820499697,\n",
       "  -4.430816804287758,\n",
       "  -4.325456276185488,\n",
       "  -4.23014611165389,\n",
       "  -4.143134724058199,\n",
       "  -4.063092028948765,\n",
       "  -3.988984047564274,\n",
       "  -3.9199911680773227,\n",
       "  -3.8554526574397516,\n",
       "  -3.7948280284174345,\n",
       "  -3.737669623727813,\n",
       "  -3.6836023959078292,\n",
       "  -3.632309109625542,\n",
       "  -3.58351893945611,\n",
       "  -3.5369989183666717,\n",
       "  -3.4925471629895135,\n",
       "  -3.449987543498254,\n",
       "  -3.4091655555113323,\n",
       "  -3.3699448376195895,\n",
       "  -3.3322045156196483],\n",
       " [-9.96124637168832,\n",
       "  -8.57495203856843,\n",
       "  -7.764021757018769,\n",
       "  -7.18865770544854,\n",
       "  -6.742370546820119,\n",
       "  -6.3777274892322104,\n",
       "  -6.069426089577695,\n",
       "  -5.802363274328648,\n",
       "  -5.566797241904771,\n",
       "  -5.35607618570023,\n",
       "  -5.165455856637035,\n",
       "  -4.991433081445654,\n",
       "  -4.831347691226785,\n",
       "  -4.683131728457803,\n",
       "  -4.5451459694839,\n",
       "  -4.416068948208758,\n",
       "  -4.294819690164124,\n",
       "  -4.180502880784879,\n",
       "  -4.072368425144913,\n",
       "  -3.9697818525803386,\n",
       "  -3.872201512241474,\n",
       "  -3.7791614700625975,\n",
       "  -3.6902579593082816,\n",
       "  -3.6051387203257623,\n",
       "  -3.5234947443519187,\n",
       "  -3.445053308568433,\n",
       "  -3.369572664568551],\n",
       " [-9.998614520637224,\n",
       "  -8.650060509517274,\n",
       "  -7.878350945859356,\n",
       "  -7.343808882276049,\n",
       "  -6.940081343138887,\n",
       "  -6.619890040928137,\n",
       "  -6.358108662363059,\n",
       "  -6.139836017283445,\n",
       "  -5.955563271141855,\n",
       "  -5.798909442757298,\n",
       "  -5.665447518383724,\n",
       "  -5.55204937221466,\n",
       "  -5.456502492633363,\n",
       "  -5.377279409351332,\n",
       "  -5.31340163176192,\n",
       "  -5.264367305596212,\n",
       "  -5.230129435147268,\n",
       "  -5.211122790299622,\n",
       "  -5.208348862761926,\n",
       "  -5.2235453064092905,\n",
       "  -5.259496373694948,\n",
       "  -5.3206070313433305,\n",
       "  -5.4140250493829685,\n",
       "  -5.552049389714659,\n",
       "  -5.75808743952593,\n",
       "  -6.085111144517276,\n",
       "  -6.7027776670773385]]"
      ]
     },
     "execution_count": 44,
     "metadata": {},
     "output_type": "execute_result"
    }
   ],
   "source": [
    "lit"
   ]
  },
  {
   "cell_type": "code",
   "execution_count": 95,
   "metadata": {},
   "outputs": [],
   "source": [
    "letters = ['a', 'b', 'c', 'd',\n",
    "          'e', 'f', 'g', 'h', \n",
    "          'i', 'j', 'k', 'l',\n",
    "          'm', 'n', 'o', 'p',\n",
    "          'q', 'r', 's', 't',\n",
    "          'u', 'v', 'w', 'x',\n",
    "          'y', 'z', ' ']"
   ]
  },
  {
   "cell_type": "code",
   "execution_count": 96,
   "metadata": {},
   "outputs": [],
   "source": [
    "S = ['']*len(phiit)\n",
    "S[-1] = lit[-1].index(max(lit[-1]))\n",
    "for time in range(len(phiit)-1, 0, -1):\n",
    "    S[time-1] = phiit[time][S[time]]"
   ]
  },
  {
   "cell_type": "code",
   "execution_count": 97,
   "metadata": {},
   "outputs": [],
   "source": [
    "for i in range(0, len(S)):\n",
    "    S[i] = letters[S[i]]"
   ]
  },
  {
   "cell_type": "code",
   "execution_count": 101,
   "metadata": {},
   "outputs": [],
   "source": [
    "sentence = \"\"\n",
    "sentence += S[0]\n",
    "\n",
    "for i in range(0, len(S)):\n",
    "    if S[i] != sentence[-1]:\n",
    "        sentence += S[i]"
   ]
  },
  {
   "cell_type": "code",
   "execution_count": 102,
   "metadata": {},
   "outputs": [
    {
     "name": "stdout",
     "output_type": "stream",
     "text": [
      "democracy is the worst form lof government except for al the others\n"
     ]
    }
   ],
   "source": [
    "print(sentence)"
   ]
  },
  {
   "cell_type": "code",
   "execution_count": 104,
   "metadata": {},
   "outputs": [],
   "source": [
    "times = []\n",
    "for i in range(0, len(S)):\n",
    "    times.append(i)"
   ]
  },
  {
   "cell_type": "code",
   "execution_count": 110,
   "metadata": {},
   "outputs": [
    {
     "data": {
      "text/plain": [
       "Text(0,0.5,'Hidden state')"
      ]
     },
     "execution_count": 110,
     "metadata": {},
     "output_type": "execute_result"
    },
    {
     "data": {
      "image/png": "[encoded data removed]",
      "text/plain": [
       "<Figure size 432x288 with 1 Axes>"
      ]
     },
     "metadata": {},
     "output_type": "display_data"
    }
   ],
   "source": [
    "plt.plot(times, S)\n",
    "plt.xlabel('Time')\n",
    "plt.ylabel('Hidden state')"
   ]
  }
 ],
 "metadata": {
  "kernelspec": {
   "display_name": "Python 3",
   "language": "python",
   "name": "python3"
  },
  "language_info": {
   "codemirror_mode": {
    "name": "ipython",
    "version": 3
   },
   "file_extension": ".py",
   "mimetype": "text/x-python",
   "name": "python",
   "nbconvert_exporter": "python",
   "pygments_lexer": "ipython3",
   "version": "3.6.5"
  }
 },
 "nbformat": 4,
 "nbformat_minor": 2
}
